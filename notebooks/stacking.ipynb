{
 "cells": [
  {
   "cell_type": "code",
   "execution_count": 2,
   "metadata": {},
   "outputs": [
    {
     "name": "stdout",
     "output_type": "stream",
     "text": [
      "Accuracy of Logistic Regression: 0.91\n",
      "[[ 67   8]\n",
      " [  9 100]]\n",
      "Accuracy of Decision Tree: 0.91\n",
      "[[ 67   8]\n",
      " [  9 100]]\n",
      "Accuracy of Gradient Boosting: 0.91\n",
      "[[ 67   8]\n",
      " [  9 100]]\n",
      "Accuracy of Random Forest: 0.91\n",
      "[[ 67   8]\n",
      " [  9 100]]\n"
     ]
    }
   ],
   "source": [
    "import pandas as pd\n",
    "from sklearn.linear_model import LogisticRegression\n",
    "from sklearn.tree import DecisionTreeClassifier\n",
    "from sklearn.ensemble import RandomForestClassifier, GradientBoostingClassifier\n",
    "from sklearn.metrics import accuracy_score\n",
    "\n",
    "# Load data\n",
    "data_test = pd.read_csv('../data/heart_disease/data_test.csv')\n",
    "bert_predictions = pd.read_csv('results/bert.csv')\n",
    "mistral_predictions = pd.read_csv('results/mistral.csv')\n",
    "traditional_predictions = pd.read_csv('results/traditional.csv')\n",
    "\n",
    "# Prepare predictions\n",
    "bert_predictions = bert_predictions.iloc[:, 0].astype(int)\n",
    "mistral_predictions = mistral_predictions.iloc[:, 0].astype(int)\n",
    "traditional_predictions = traditional_predictions['Predictions'].astype(int)\n",
    "\n",
    "# Combine predictions into a single DataFrame\n",
    "stacking_features = pd.DataFrame({\n",
    "    'BERT': bert_predictions,\n",
    "    'Mistral': mistral_predictions,\n",
    "    'Random_Forest': traditional_predictions\n",
    "})\n",
    "\n",
    "# True labels from the test data\n",
    "true_labels = data_test['num']\n",
    "\n",
    "# Initialize meta-models\n",
    "models = {\n",
    "    'Logistic Regression': LogisticRegression(),\n",
    "    'Decision Tree': DecisionTreeClassifier(),\n",
    "    'Gradient Boosting': GradientBoostingClassifier(),\n",
    "    'Random Forest': RandomForestClassifier(),\n",
    "}\n",
    "\n",
    "# Train and evaluate each meta-model\n",
    "for name, model in models.items():\n",
    "    model.fit(stacking_features, true_labels)\n",
    "    predictions = model.predict(stacking_features)\n",
    "    accuracy = accuracy_score(true_labels, predictions)\n",
    "    print(f'Accuracy of {name}: {accuracy:.2f}')\n",
    "\n",
    "    # gennerate confusion matrix\n",
    "    from sklearn.metrics import confusion_matrix\n",
    "    print(confusion_matrix(true_labels, predictions))\n",
    "\n",
    "\n",
    "\n",
    "\n"
   ]
  },
  {
   "cell_type": "code",
   "execution_count": null,
   "metadata": {},
   "outputs": [],
   "source": []
  }
 ],
 "metadata": {
  "kernelspec": {
   "display_name": "base",
   "language": "python",
   "name": "python3"
  },
  "language_info": {
   "codemirror_mode": {
    "name": "ipython",
    "version": 3
   },
   "file_extension": ".py",
   "mimetype": "text/x-python",
   "name": "python",
   "nbconvert_exporter": "python",
   "pygments_lexer": "ipython3",
   "version": "3.8.8"
  }
 },
 "nbformat": 4,
 "nbformat_minor": 2
}
