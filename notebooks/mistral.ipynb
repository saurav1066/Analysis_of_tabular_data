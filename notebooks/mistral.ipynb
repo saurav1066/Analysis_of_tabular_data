{
 "cells": [
  {
   "cell_type": "code",
   "execution_count": null,
   "metadata": {},
   "outputs": [],
   "source": [
    "# Load necessar libraries\n",
    "import pandas as pd\n",
    "from sklearn.model_selection import train_test_split\n",
    "from sklearn.preprocessing import StandardScaler\n",
    "from sklearn.metrics import accuracy_score, precision_score, recall_score, f1_score\n"
   ]
  },
  {
   "cell_type": "code",
   "execution_count": null,
   "metadata": {},
   "outputs": [],
   "source": [
    "# Load the heart disease data\n",
    "data = pd.read_csv('..\\data\\heart_disease\\heart_disease_uci.csv')\n",
    "data.head()\n"
   ]
  },
  {
   "cell_type": "code",
   "execution_count": null,
   "metadata": {},
   "outputs": [],
   "source": [
    "#Converting num to binary\n",
    "data['num'] = data['num'].apply(lambda x: 1 if x>0 else 0)\n",
    "data.head()"
   ]
  },
  {
   "cell_type": "code",
   "execution_count": null,
   "metadata": {},
   "outputs": [],
   "source": [
    "#Splitting the data into features and target\n",
    "features = data.iloc[:,:-1]\n",
    "target = data.iloc[:,-1]\n",
    "\n",
    "features.head()"
   ]
  },
  {
   "cell_type": "code",
   "execution_count": null,
   "metadata": {},
   "outputs": [],
   "source": [
    "#Finding categorical columns and using ordinal encoding\n",
    "categorical_columns = features.select_dtypes(include='object').columns\n",
    "categorical_columns\n"
   ]
  },
  {
   "cell_type": "code",
   "execution_count": null,
   "metadata": {},
   "outputs": [],
   "source": [
    "# Train-test split with stratification\n",
    "X_train, X_test, y_train, y_test = train_test_split(features, target, test_size=0.2, stratify=target, random_state=42)\n"
   ]
  },
  {
   "cell_type": "code",
   "execution_count": null,
   "metadata": {},
   "outputs": [],
   "source": [
    "# Convert to DataFrame for easier handling\n",
    "train_data = pd.DataFrame(X_train)\n",
    "train_data['target'] = y_train.values\n",
    "\n",
    "test_data = pd.DataFrame(X_test)\n",
    "test_data['target'] = y_test.values\n",
    "\n"
   ]
  },
  {
   "cell_type": "code",
   "execution_count": null,
   "metadata": {},
   "outputs": [],
   "source": [
    "from transformers import AutoModelForSequenceClassification, AutoTokenizer\n",
    "\n",
    "# Load the Mistral model and tokenizer from Hugging Face\n",
    "model_name = \"mistralai/mistral-7b\"\n",
    "tokenizer = AutoTokenizer.from_pretrained(model_name, use_auth_token=True)\n",
    "model = AutoModelForSequenceClassification.from_pretrained(model_name, num_labels=2, use_auth_token=True)\n"
   ]
  },
  {
   "cell_type": "code",
   "execution_count": null,
   "metadata": {},
   "outputs": [],
   "source": [
    "# Tokenize the training data\n",
    "def tokenize_row(row, tokenizer):\n",
    "    row_str = \" \".join(map(str, row.values))\n",
    "    inputs = tokenizer(row_str, padding='max_length', truncation=True, return_tensors=\"pt\")\n",
    "    return inputs\n",
    "\n",
    "train_inputs = [tokenize_row(row, tokenizer) for _, row in train_data.iterrows()]\n",
    "test_inputs = [tokenize_row(row, tokenizer) for _, row in test_data.iterrows()]\n"
   ]
  },
  {
   "cell_type": "code",
   "execution_count": null,
   "metadata": {},
   "outputs": [],
   "source": [
    "# Tokenize the training data\n",
    "def tokenize_row(row, tokenizer):\n",
    "    row_str = \" \".join(map(str, row.values))\n",
    "    inputs = tokenizer(row_str, padding='max_length', truncation=True, return_tensors=\"pt\")\n",
    "    return inputs\n",
    "\n",
    "train_inputs = [tokenize_row(row, tokenizer) for _, row in train_data.iterrows()]\n",
    "test_inputs = [tokenize_row(row, tokenizer) for _, row in test_data.iterrows()]\n"
   ]
  },
  {
   "cell_type": "code",
   "execution_count": null,
   "metadata": {},
   "outputs": [],
   "source": [
    "import torch\n",
    "from torch.utils.data import Dataset, DataLoader\n",
    "\n",
    "class HeartDiseaseDataset(Dataset):\n",
    "    def __init__(self, inputs, labels):\n",
    "        self.inputs = inputs\n",
    "        self.labels = labels\n",
    "\n",
    "    def __len__(self):\n",
    "        return len(self.labels)\n",
    "\n",
    "    def __getitem__(self, idx):\n",
    "        input_ids = self.inputs[idx]['input_ids'].squeeze(0)\n",
    "        attention_mask = self.inputs[idx]['attention_mask'].squeeze(0)\n",
    "        label = torch.tensor(self.labels.iloc[idx])\n",
    "        return input_ids, attention_mask, label\n",
    "\n",
    "# Create dataset and dataloader\n",
    "train_dataset = HeartDiseaseDataset(train_inputs, y_train)\n",
    "test_dataset = HeartDiseaseDataset(test_inputs, y_test)\n",
    "\n",
    "train_loader = DataLoader(train_dataset, batch_size=16, shuffle=True)\n",
    "test_loader = DataLoader(test_dataset, batch_size=16)\n"
   ]
  },
  {
   "cell_type": "code",
   "execution_count": null,
   "metadata": {},
   "outputs": [],
   "source": [
    "from transformers import AdamW\n",
    "\n",
    "# Set up the optimizer\n",
    "optimizer = AdamW(model.parameters(), lr=5e-5)\n",
    "\n",
    "# Training function\n",
    "def train(model, train_loader, optimizer):\n",
    "    model.train()\n",
    "    total_loss = 0\n",
    "    for batch in train_loader:\n",
    "        input_ids, attention_mask, labels = batch\n",
    "        optimizer.zero_grad()\n",
    "        outputs = model(input_ids=input_ids, attention_mask=attention_mask, labels=labels)\n",
    "        loss = outputs.loss\n",
    "        total_loss += loss.item()\n",
    "        loss.backward()\n",
    "        optimizer.step()\n",
    "    return total_loss / len(train_loader)\n",
    "\n",
    "# Training loop\n",
    "num_epochs = 3\n",
    "for epoch in range(num_epochs):\n",
    "    avg_loss = train(model, train_loader, optimizer)\n",
    "    print(f'Epoch {epoch+1}/{num_epochs}, Loss: {avg_loss:.4f}')\n"
   ]
  },
  {
   "cell_type": "code",
   "execution_count": null,
   "metadata": {},
   "outputs": [],
   "source": [
    "def evaluate(model, test_loader):\n",
    "    model.eval()\n",
    "    total_correct = 0\n",
    "    total_examples = 0\n",
    "    all_labels = []\n",
    "    all_preds = []\n",
    "    with torch.no_grad():\n",
    "        for batch in test_loader:\n",
    "            input_ids, attention_mask, labels = batch\n",
    "            outputs = model(input_ids=input_ids, attention_mask=attention_mask)\n",
    "            predictions = torch.argmax(outputs.logits, dim=-1)\n",
    "            all_labels.extend(labels.cpu().numpy())\n",
    "            all_preds.extend(predictions.cpu().numpy())\n",
    "            total_correct += (predictions == labels).sum().item()\n",
    "            total_examples += labels.size(0)\n",
    "    accuracy = total_correct / total_examples\n",
    "    precision = precision_score(all_labels, all_preds)\n",
    "    recall = recall_score(all_labels, all_preds)\n",
    "    f1 = f1_score(all_labels, all_preds)\n",
    "    return accuracy, precision, recall, f1\n",
    "\n",
    "# Evaluate the Mistral model\n",
    "mistral_accuracy, mistral_precision, mistral_recall, mistral_f1 = evaluate(model, test_loader)\n",
    "print(f'Mistral Model - Accuracy: {mistral_accuracy:.4f}, Precision: {mistral_precision:.4f}, Recall: {mistral_recall:.4f}, F1-Score: {mistral_f1:.4f}')\n"
   ]
  }
 ],
 "metadata": {
  "kernelspec": {
   "display_name": "Python 3",
   "language": "python",
   "name": "python3"
  },
  "language_info": {
   "codemirror_mode": {
    "name": "ipython",
    "version": 3
   },
   "file_extension": ".py",
   "mimetype": "text/x-python",
   "name": "python",
   "nbconvert_exporter": "python",
   "pygments_lexer": "ipython3",
   "version": "3.8.8"
  }
 },
 "nbformat": 4,
 "nbformat_minor": 2
}
